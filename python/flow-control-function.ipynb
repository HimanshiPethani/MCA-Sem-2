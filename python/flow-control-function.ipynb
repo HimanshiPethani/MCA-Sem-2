{
 "cells": [
  {
   "cell_type": "markdown",
   "id": "0de17f4d",
   "metadata": {},
   "source": [
    "# pass statement"
   ]
  },
  {
   "cell_type": "code",
   "execution_count": 3,
   "id": "f78277f6",
   "metadata": {},
   "outputs": [
    {
     "name": "stdout",
     "output_type": "stream",
     "text": [
      "enter value of a3\n",
      "enter value of a1\n",
      "1\n"
     ]
    }
   ],
   "source": [
    "a=int(input(\"enter value of a\"))\n",
    "b=int(input(\"enter value of a\"))\n",
    "if b > a:\n",
    "    pass\n",
    "else:\n",
    "    print(b)\n"
   ]
  },
  {
   "cell_type": "markdown",
   "id": "8e55a833",
   "metadata": {},
   "source": [
    "# if statement"
   ]
  },
  {
   "cell_type": "code",
   "execution_count": 7,
   "id": "93f75cb3",
   "metadata": {},
   "outputs": [
    {
     "name": "stdout",
     "output_type": "stream",
     "text": [
      "enter the number?2\n",
      "2 Number is even\n"
     ]
    }
   ],
   "source": [
    "a = int(input(\"enter the number?\"))      \n",
    "if a % 2 == 0:   \n",
    "        print(\"{} Number is even\".format(a))        \n"
   ]
  },
  {
   "cell_type": "markdown",
   "id": "d8dcbb2d",
   "metadata": {},
   "source": [
    "# if else statement"
   ]
  },
  {
   "cell_type": "code",
   "execution_count": 8,
   "id": "c1522b5c",
   "metadata": {},
   "outputs": [
    {
     "name": "stdout",
     "output_type": "stream",
     "text": [
      "Enter your age? 12\n",
      "Sorry! you have to wait !!\n"
     ]
    }
   ],
   "source": [
    "age = int (input(\"Enter your age? \"))       \n",
    "if age>=18:   \n",
    "        print(\"You are eligible to vote !!\");       \n",
    "else:   \n",
    "        print(\"Sorry! you have to wait !!\");   \n"
   ]
  },
  {
   "cell_type": "markdown",
   "id": "0f22b6dc",
   "metadata": {},
   "source": [
    "# if...elif...else statement"
   ]
  },
  {
   "cell_type": "code",
   "execution_count": 9,
   "id": "b5b72f44",
   "metadata": {},
   "outputs": [
    {
     "name": "stdout",
     "output_type": "stream",
     "text": [
      "Enter the number?234\n",
      "number is not equal to 10, 50 or 100\n"
     ]
    }
   ],
   "source": [
    "number = int(input(\"Enter the number?\"))       \n",
    "if number==10:   \n",
    "        print(\"number is equals to 10\")       \n",
    "elif number==50:   \n",
    "        print(\"number is equal to 50\");       \n",
    "elif number==100:   \n",
    "        print(\"number is equal to 100\");       \n",
    "else:   \n",
    "        print(\"number is not equal to 10, 50 or 100\");   \n"
   ]
  },
  {
   "cell_type": "markdown",
   "id": "12c24553",
   "metadata": {},
   "source": [
    "# nested if else statement"
   ]
  },
  {
   "cell_type": "code",
   "execution_count": 13,
   "id": "ebbcc4ab",
   "metadata": {},
   "outputs": [
    {
     "name": "stdout",
     "output_type": "stream",
     "text": [
      "Enter a number: 4\n",
      "4.0 is Positive number\n"
     ]
    }
   ],
   "source": [
    "\n",
    "num = float(input(\"Enter a number: \"))\n",
    "if num >= 0:\n",
    "    if num == 0:\n",
    "        print(\"Zero\")\n",
    "    else:\n",
    "        print(\"{} is Positive number\".format(num))\n",
    "else:\n",
    "    print(\"{} is Negative number\".format(num))"
   ]
  },
  {
   "cell_type": "markdown",
   "id": "3ff52649",
   "metadata": {},
   "source": [
    "# while Loop\n",
    "            With the while loop we can execute a set of statements as long as a condition is true."
   ]
  },
  {
   "cell_type": "code",
   "execution_count": 1,
   "id": "9477df20",
   "metadata": {},
   "outputs": [
    {
     "name": "stdout",
     "output_type": "stream",
     "text": [
      "1\n",
      "2\n",
      "3\n",
      "4\n",
      "5\n",
      "6\n"
     ]
    }
   ],
   "source": [
    "i = 1\n",
    "while i <= 6:\n",
    "  print(i)\n",
    "  i += 1"
   ]
  },
  {
   "cell_type": "markdown",
   "id": "2b8008e6",
   "metadata": {},
   "source": [
    "# For Loops\n",
    "A for loop is used for iterating over a sequence (that is either a list, a tuple, a dictionary, a set, or a string).\n",
    "\n",
    "This is less like the for keyword in other programming languages, and works more like an iterator method as found in other object-orientated programming languages.\n",
    "\n",
    "With the for loop we can execute a set of statements, once for each item in a list, tuple, set etc."
   ]
  },
  {
   "cell_type": "code",
   "execution_count": 2,
   "id": "334ff857",
   "metadata": {},
   "outputs": [
    {
     "name": "stdout",
     "output_type": "stream",
     "text": [
      "The sum is 22\n"
     ]
    }
   ],
   "source": [
    "# Program to find the sum of all numbers stored in a list\n",
    "\n",
    "# List of numbers\n",
    "numbers = [3,5,8,2,4]\n",
    "\n",
    "sum = 0\n",
    "for val in numbers:\n",
    "    sum = sum+val\n",
    "\n",
    "print(\"The sum is\", sum)\n"
   ]
  },
  {
   "cell_type": "markdown",
   "id": "3a9c4038",
   "metadata": {},
   "source": [
    "### The range() function\n",
    "We can generate a sequence of numbers using range() function. range(10) will generate numbers from 0 to 9 (10 numbers).\n",
    "\n"
   ]
  },
  {
   "cell_type": "code",
   "execution_count": 8,
   "id": "0ac08e52",
   "metadata": {},
   "outputs": [
    {
     "name": "stdout",
     "output_type": "stream",
     "text": [
      "1\n",
      "2\n",
      "3\n",
      "4\n",
      "5\n",
      "6\n",
      "7\n"
     ]
    }
   ],
   "source": [
    "\n",
    "for i in range(1, 8):\n",
    "    print(i)\n"
   ]
  },
  {
   "cell_type": "code",
   "execution_count": null,
   "id": "e2e753b0",
   "metadata": {},
   "outputs": [],
   "source": []
  }
 ],
 "metadata": {
  "kernelspec": {
   "display_name": "Python 3",
   "language": "python",
   "name": "python3"
  },
  "language_info": {
   "codemirror_mode": {
    "name": "ipython",
    "version": 3
   },
   "file_extension": ".py",
   "mimetype": "text/x-python",
   "name": "python",
   "nbconvert_exporter": "python",
   "pygments_lexer": "ipython3",
   "version": "3.9.4"
  }
 },
 "nbformat": 4,
 "nbformat_minor": 5
}
